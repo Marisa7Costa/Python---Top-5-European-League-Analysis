{
 "cells": [
  {
   "cell_type": "markdown",
   "id": "27b92443",
   "metadata": {},
   "source": [
    "# 6.4 Supervised Machine Learning: Regression"
   ]
  },
  {
   "cell_type": "markdown",
   "id": "c7921e3c",
   "metadata": {},
   "source": [
    "### Content List:\n",
    "#### 1. Importing libraries and data\n",
    "#### 2. Data cleaning\n",
    "#### 3. Hypothesis\n",
    "#### 4.Data prep for regression analysis\n",
    "#### 5. Regression analysis"
   ]
  },
  {
   "cell_type": "markdown",
   "id": "3884f980",
   "metadata": {},
   "source": [
    "### 1. Importing libraries and data"
   ]
  },
  {
   "cell_type": "code",
   "execution_count": 9,
   "id": "7004aa20",
   "metadata": {},
   "outputs": [],
   "source": [
    "import pandas as pd\n",
    "import numpy as np\n",
    "import seaborn as sns\n",
    "import matplotlib\n",
    "import matplotlib.pyplot as plt\n",
    "import os\n",
    "import sklearn\n",
    "from sklearn.model_selection import train_test_split \n",
    "from sklearn.linear_model import LinearRegression\n",
    "from sklearn.metrics import mean_squared_error, r2_score\n",
    "\n",
    "#Remove scientific notation\n",
    "pd.options.display.float_format='{:.4f}'.format"
   ]
  },
  {
   "cell_type": "code",
   "execution_count": 2,
   "id": "99b04132",
   "metadata": {},
   "outputs": [],
   "source": [
    "%matplotlib inline"
   ]
  },
  {
   "cell_type": "code",
   "execution_count": 3,
   "id": "31a7d0e2",
   "metadata": {},
   "outputs": [],
   "source": [
    "#Create data path\n",
    "path = r'C:\\Users\\Utilizador\\OneDrive\\Documents\\CareerFoundry - Data Analyst\\Data Immersion\\A6\\24-03-2024 TransferMarkt'"
   ]
  },
  {
   "cell_type": "code",
   "execution_count": 4,
   "id": "d8699da1",
   "metadata": {},
   "outputs": [],
   "source": [
    "#import data\n",
    "df = pd.read_pickle(os.path.join(path, '02 Data', 'Prepared Data', 'big5leagues_wrangled.pkl'))"
   ]
  },
  {
   "cell_type": "markdown",
   "id": "3d4a7a0f",
   "metadata": {},
   "source": [
    "### 2. Data cleaning"
   ]
  },
  {
   "cell_type": "code",
   "execution_count": 5,
   "id": "6740d621",
   "metadata": {},
   "outputs": [
    {
     "data": {
      "text/plain": [
       "Index(['player_id', 'player_name', 'date_of_birth', 'age',\n",
       "       'country_of_citizenship', 'country_of_citizen#', 'position',\n",
       "       'position#', 'sub_position', 'sub_position#', 'foot', 'foot#',\n",
       "       'current_club_name', 'current_club_name#', 'last_season',\n",
       "       'market_value_in_eur', 'highest_market_value_in_eur',\n",
       "       'competition_name', 'competition_country', 'comp_countries#', 'date',\n",
       "       'domestic_league_code', 'club_name', 'club_name#',\n",
       "       'current_club_country', 'current_league'],\n",
       "      dtype='object')"
      ]
     },
     "execution_count": 5,
     "metadata": {},
     "output_type": "execute_result"
    }
   ],
   "source": [
    "df.columns"
   ]
  },
  {
   "cell_type": "code",
   "execution_count": 6,
   "id": "b2e73f4a",
   "metadata": {},
   "outputs": [],
   "source": [
    "#Delete columns not necessary for anaysis\n",
    "big5_df = df.drop (columns = ['date_of_birth','country_of_citizenship','country_of_citizen#', 'position',\n",
    "       'position#', 'sub_position', 'sub_position#', 'foot', 'foot#',\n",
    "       'current_club_name', 'current_club_name#', 'last_season','competition_name', 'competition_country', 'comp_countries#', 'date',\n",
    "       'domestic_league_code', 'club_name', 'club_name#',\n",
    "       'current_club_country', 'current_league'])"
   ]
  },
  {
   "cell_type": "code",
   "execution_count": 7,
   "id": "7188bc98",
   "metadata": {},
   "outputs": [
    {
     "data": {
      "text/plain": [
       "Index(['player_id', 'player_name', 'age', 'market_value_in_eur',\n",
       "       'highest_market_value_in_eur'],\n",
       "      dtype='object')"
      ]
     },
     "execution_count": 7,
     "metadata": {},
     "output_type": "execute_result"
    }
   ],
   "source": [
    "big5_df.columns"
   ]
  },
  {
   "cell_type": "code",
   "execution_count": 8,
   "id": "c7f9020e",
   "metadata": {},
   "outputs": [
    {
     "data": {
      "text/html": [
       "<div>\n",
       "<style scoped>\n",
       "    .dataframe tbody tr th:only-of-type {\n",
       "        vertical-align: middle;\n",
       "    }\n",
       "\n",
       "    .dataframe tbody tr th {\n",
       "        vertical-align: top;\n",
       "    }\n",
       "\n",
       "    .dataframe thead th {\n",
       "        text-align: right;\n",
       "    }\n",
       "</style>\n",
       "<table border=\"1\" class=\"dataframe\">\n",
       "  <thead>\n",
       "    <tr style=\"text-align: right;\">\n",
       "      <th></th>\n",
       "      <th>player_id</th>\n",
       "      <th>player_name</th>\n",
       "      <th>age</th>\n",
       "      <th>market_value_in_eur</th>\n",
       "      <th>highest_market_value_in_eur</th>\n",
       "    </tr>\n",
       "  </thead>\n",
       "  <tbody>\n",
       "    <tr>\n",
       "      <th>29</th>\n",
       "      <td>26267</td>\n",
       "      <td>Fernandinho</td>\n",
       "      <td>38</td>\n",
       "      <td>600000</td>\n",
       "      <td>32000000</td>\n",
       "    </tr>\n",
       "    <tr>\n",
       "      <th>39</th>\n",
       "      <td>55735</td>\n",
       "      <td>Henrikh Mkhitaryan</td>\n",
       "      <td>35</td>\n",
       "      <td>6000000</td>\n",
       "      <td>37000000</td>\n",
       "    </tr>\n",
       "    <tr>\n",
       "      <th>48</th>\n",
       "      <td>75615</td>\n",
       "      <td>Douglas Costa</td>\n",
       "      <td>33</td>\n",
       "      <td>1500000</td>\n",
       "      <td>55000000</td>\n",
       "    </tr>\n",
       "    <tr>\n",
       "      <th>101</th>\n",
       "      <td>73185</td>\n",
       "      <td>Lucas Pérez</td>\n",
       "      <td>35</td>\n",
       "      <td>800000</td>\n",
       "      <td>17000000</td>\n",
       "    </tr>\n",
       "    <tr>\n",
       "      <th>289</th>\n",
       "      <td>42678</td>\n",
       "      <td>Salvatore Bocchetti</td>\n",
       "      <td>37</td>\n",
       "      <td>200000</td>\n",
       "      <td>14000000</td>\n",
       "    </tr>\n",
       "  </tbody>\n",
       "</table>\n",
       "</div>"
      ],
      "text/plain": [
       "    player_id          player_name  age  market_value_in_eur  \\\n",
       "29      26267          Fernandinho   38               600000   \n",
       "39      55735   Henrikh Mkhitaryan   35              6000000   \n",
       "48      75615        Douglas Costa   33              1500000   \n",
       "101     73185          Lucas Pérez   35               800000   \n",
       "289     42678  Salvatore Bocchetti   37               200000   \n",
       "\n",
       "     highest_market_value_in_eur  \n",
       "29                      32000000  \n",
       "39                      37000000  \n",
       "48                      55000000  \n",
       "101                     17000000  \n",
       "289                     14000000  "
      ]
     },
     "execution_count": 8,
     "metadata": {},
     "output_type": "execute_result"
    }
   ],
   "source": [
    "big5_df.head()"
   ]
  },
  {
   "cell_type": "code",
   "execution_count": 10,
   "id": "9b775e5a",
   "metadata": {},
   "outputs": [
    {
     "data": {
      "text/plain": [
       "(460206, 5)"
      ]
     },
     "execution_count": 10,
     "metadata": {},
     "output_type": "execute_result"
    }
   ],
   "source": [
    "big5_df.shape"
   ]
  },
  {
   "cell_type": "markdown",
   "id": "13a3b42c",
   "metadata": {},
   "source": [
    "##### Missing values"
   ]
  },
  {
   "cell_type": "code",
   "execution_count": 12,
   "id": "460c5eda",
   "metadata": {},
   "outputs": [
    {
     "data": {
      "text/plain": [
       "player_id                      0\n",
       "player_name                    0\n",
       "age                            0\n",
       "market_value_in_eur            0\n",
       "highest_market_value_in_eur    0\n",
       "dtype: int64"
      ]
     },
     "execution_count": 12,
     "metadata": {},
     "output_type": "execute_result"
    }
   ],
   "source": [
    "# Check for missing values\n",
    "big5_df.isnull().sum()\n"
   ]
  },
  {
   "cell_type": "markdown",
   "id": "d8a622e7",
   "metadata": {},
   "source": [
    "##### Duplicates check"
   ]
  },
  {
   "cell_type": "code",
   "execution_count": 13,
   "id": "083cda0a",
   "metadata": {},
   "outputs": [],
   "source": [
    "dups = big5_df.duplicated()"
   ]
  },
  {
   "cell_type": "code",
   "execution_count": 14,
   "id": "70658666",
   "metadata": {},
   "outputs": [
    {
     "data": {
      "text/plain": [
       "(460206,)"
      ]
     },
     "execution_count": 14,
     "metadata": {},
     "output_type": "execute_result"
    }
   ],
   "source": [
    "dups.shape # No dups"
   ]
  },
  {
   "cell_type": "markdown",
   "id": "4de32614",
   "metadata": {},
   "source": [
    "##### Summary Stats checks"
   ]
  },
  {
   "cell_type": "code",
   "execution_count": 16,
   "id": "17bcf971",
   "metadata": {},
   "outputs": [
    {
     "data": {
      "text/html": [
       "<div>\n",
       "<style scoped>\n",
       "    .dataframe tbody tr th:only-of-type {\n",
       "        vertical-align: middle;\n",
       "    }\n",
       "\n",
       "    .dataframe tbody tr th {\n",
       "        vertical-align: top;\n",
       "    }\n",
       "\n",
       "    .dataframe thead th {\n",
       "        text-align: right;\n",
       "    }\n",
       "</style>\n",
       "<table border=\"1\" class=\"dataframe\">\n",
       "  <thead>\n",
       "    <tr style=\"text-align: right;\">\n",
       "      <th></th>\n",
       "      <th>age</th>\n",
       "      <th>market_value_in_eur</th>\n",
       "      <th>highest_market_value_in_eur</th>\n",
       "    </tr>\n",
       "  </thead>\n",
       "  <tbody>\n",
       "    <tr>\n",
       "      <th>count</th>\n",
       "      <td>460206.0000</td>\n",
       "      <td>460206.0000</td>\n",
       "      <td>460206.0000</td>\n",
       "    </tr>\n",
       "    <tr>\n",
       "      <th>mean</th>\n",
       "      <td>29.7832</td>\n",
       "      <td>12029599.6250</td>\n",
       "      <td>26852707.2659</td>\n",
       "    </tr>\n",
       "    <tr>\n",
       "      <th>std</th>\n",
       "      <td>4.5424</td>\n",
       "      <td>18522261.6621</td>\n",
       "      <td>27581853.7854</td>\n",
       "    </tr>\n",
       "    <tr>\n",
       "      <th>min</th>\n",
       "      <td>16.0000</td>\n",
       "      <td>25000.0000</td>\n",
       "      <td>25000.0000</td>\n",
       "    </tr>\n",
       "    <tr>\n",
       "      <th>25%</th>\n",
       "      <td>26.0000</td>\n",
       "      <td>1500000.0000</td>\n",
       "      <td>8000000.0000</td>\n",
       "    </tr>\n",
       "    <tr>\n",
       "      <th>50%</th>\n",
       "      <td>30.0000</td>\n",
       "      <td>5000000.0000</td>\n",
       "      <td>18000000.0000</td>\n",
       "    </tr>\n",
       "    <tr>\n",
       "      <th>75%</th>\n",
       "      <td>33.0000</td>\n",
       "      <td>15000000.0000</td>\n",
       "      <td>35000000.0000</td>\n",
       "    </tr>\n",
       "    <tr>\n",
       "      <th>max</th>\n",
       "      <td>46.0000</td>\n",
       "      <td>180000000.0000</td>\n",
       "      <td>200000000.0000</td>\n",
       "    </tr>\n",
       "  </tbody>\n",
       "</table>\n",
       "</div>"
      ],
      "text/plain": [
       "              age  market_value_in_eur  highest_market_value_in_eur\n",
       "count 460206.0000          460206.0000                  460206.0000\n",
       "mean      29.7832        12029599.6250                26852707.2659\n",
       "std        4.5424        18522261.6621                27581853.7854\n",
       "min       16.0000           25000.0000                   25000.0000\n",
       "25%       26.0000         1500000.0000                 8000000.0000\n",
       "50%       30.0000         5000000.0000                18000000.0000\n",
       "75%       33.0000        15000000.0000                35000000.0000\n",
       "max       46.0000       180000000.0000               200000000.0000"
      ]
     },
     "execution_count": 16,
     "metadata": {},
     "output_type": "execute_result"
    }
   ],
   "source": [
    "big5_df.describe()"
   ]
  },
  {
   "cell_type": "markdown",
   "id": "ff45730d",
   "metadata": {},
   "source": [
    "### 3. Hypothesis"
   ]
  },
  {
   "cell_type": "markdown",
   "id": "a936503f",
   "metadata": {},
   "source": [
    "#### Age influences the market value- the older the player gets the more his market value increases."
   ]
  },
  {
   "cell_type": "markdown",
   "id": "eb2f7817",
   "metadata": {},
   "source": [
    "### 4. Data prep for regression analysis "
   ]
  },
  {
   "cell_type": "code",
   "execution_count": 42,
   "id": "c9419021",
   "metadata": {},
   "outputs": [
    {
     "data": {
      "image/png": "[encoded data removed]",
      "text/plain": [
       "<Figure size 640x480 with 1 Axes>"
      ]
     },
     "metadata": {},
     "output_type": "display_data"
    }
   ],
   "source": [
    "# Create a scatterplot using matplotlib.\n",
    "\n",
    "df.plot(x = 'age', y='market_value_in_eur',style='o') \n",
    "plt.title('Player Market Value(EUR) vs Player Age')  \n",
    "plt.xlabel('Player Age')  \n",
    "plt.ylabel('Player Market Value (EUR)')  \n",
    "plt.show()"
   ]
  },
  {
   "cell_type": "code",
   "execution_count": 43,
   "id": "41b8968d",
   "metadata": {},
   "outputs": [],
   "source": [
    "# Reshape the variables into NumPy arrays and put them into separate objects.\n",
    "\n",
    "X = df['age'].values.reshape(-1,1)\n",
    "y = df['market_value_in_eur'].values.reshape(-1,1)"
   ]
  },
  {
   "cell_type": "code",
   "execution_count": 44,
   "id": "eb6b92ee",
   "metadata": {},
   "outputs": [],
   "source": [
    "pd.set_option('display.max_rows', None)"
   ]
  },
  {
   "cell_type": "code",
   "execution_count": 45,
   "id": "c50b4548",
   "metadata": {},
   "outputs": [
    {
     "data": {
      "text/plain": [
       "array([[38],\n",
       "       [35],\n",
       "       [33],\n",
       "       ...,\n",
       "       [19],\n",
       "       [19],\n",
       "       [18]], dtype=int64)"
      ]
     },
     "execution_count": 45,
     "metadata": {},
     "output_type": "execute_result"
    }
   ],
   "source": [
    "X"
   ]
  },
  {
   "cell_type": "code",
   "execution_count": 46,
   "id": "95403767",
   "metadata": {},
   "outputs": [
    {
     "data": {
      "text/plain": [
       "array([[  600000],\n",
       "       [ 6000000],\n",
       "       [ 1500000],\n",
       "       ...,\n",
       "       [ 1000000],\n",
       "       [40000000],\n",
       "       [35000000]], dtype=int64)"
      ]
     },
     "execution_count": 46,
     "metadata": {},
     "output_type": "execute_result"
    }
   ],
   "source": [
    "y"
   ]
  },
  {
   "cell_type": "code",
   "execution_count": 47,
   "id": "245befa7",
   "metadata": {},
   "outputs": [],
   "source": [
    "# Split data into a training set and a test set.\n",
    "\n",
    "X_train, X_test, y_train, y_test = train_test_split(X, y, test_size=0.3, random_state=0)"
   ]
  },
  {
   "cell_type": "markdown",
   "id": "465c47d4",
   "metadata": {},
   "source": [
    "### 5. Regression analysis"
   ]
  },
  {
   "cell_type": "code",
   "execution_count": 48,
   "id": "5781d3d8",
   "metadata": {},
   "outputs": [],
   "source": [
    "# Create a regression object.\n",
    "regression = LinearRegression()"
   ]
  },
  {
   "cell_type": "code",
   "execution_count": 49,
   "id": "62d20cd1",
   "metadata": {},
   "outputs": [
    {
     "data": {
      "text/html": [
       "<style>#sk-container-id-2 {color: black;}#sk-container-id-2 pre{padding: 0;}#sk-container-id-2 div.sk-toggleable {background-color: white;}#sk-container-id-2 label.sk-toggleable__label {cursor: pointer;display: block;width: 100%;margin-bottom: 0;padding: 0.3em;box-sizing: border-box;text-align: center;}#sk-container-id-2 label.sk-toggleable__label-arrow:before {content: \"▸\";float: left;margin-right: 0.25em;color: #696969;}#sk-container-id-2 label.sk-toggleable__label-arrow:hover:before {color: black;}#sk-container-id-2 div.sk-estimator:hover label.sk-toggleable__label-arrow:before {color: black;}#sk-container-id-2 div.sk-toggleable__content {max-height: 0;max-width: 0;overflow: hidden;text-align: left;background-color: #f0f8ff;}#sk-container-id-2 div.sk-toggleable__content pre {margin: 0.2em;color: black;border-radius: 0.25em;background-color: #f0f8ff;}#sk-container-id-2 input.sk-toggleable__control:checked~div.sk-toggleable__content {max-height: 200px;max-width: 100%;overflow: auto;}#sk-container-id-2 input.sk-toggleable__control:checked~label.sk-toggleable__label-arrow:before {content: \"▾\";}#sk-container-id-2 div.sk-estimator input.sk-toggleable__control:checked~label.sk-toggleable__label {background-color: #d4ebff;}#sk-container-id-2 div.sk-label input.sk-toggleable__control:checked~label.sk-toggleable__label {background-color: #d4ebff;}#sk-container-id-2 input.sk-hidden--visually {border: 0;clip: rect(1px 1px 1px 1px);clip: rect(1px, 1px, 1px, 1px);height: 1px;margin: -1px;overflow: hidden;padding: 0;position: absolute;width: 1px;}#sk-container-id-2 div.sk-estimator {font-family: monospace;background-color: #f0f8ff;border: 1px dotted black;border-radius: 0.25em;box-sizing: border-box;margin-bottom: 0.5em;}#sk-container-id-2 div.sk-estimator:hover {background-color: #d4ebff;}#sk-container-id-2 div.sk-parallel-item::after {content: \"\";width: 100%;border-bottom: 1px solid gray;flex-grow: 1;}#sk-container-id-2 div.sk-label:hover label.sk-toggleable__label {background-color: #d4ebff;}#sk-container-id-2 div.sk-serial::before {content: \"\";position: absolute;border-left: 1px solid gray;box-sizing: border-box;top: 0;bottom: 0;left: 50%;z-index: 0;}#sk-container-id-2 div.sk-serial {display: flex;flex-direction: column;align-items: center;background-color: white;padding-right: 0.2em;padding-left: 0.2em;position: relative;}#sk-container-id-2 div.sk-item {position: relative;z-index: 1;}#sk-container-id-2 div.sk-parallel {display: flex;align-items: stretch;justify-content: center;background-color: white;position: relative;}#sk-container-id-2 div.sk-item::before, #sk-container-id-2 div.sk-parallel-item::before {content: \"\";position: absolute;border-left: 1px solid gray;box-sizing: border-box;top: 0;bottom: 0;left: 50%;z-index: -1;}#sk-container-id-2 div.sk-parallel-item {display: flex;flex-direction: column;z-index: 1;position: relative;background-color: white;}#sk-container-id-2 div.sk-parallel-item:first-child::after {align-self: flex-end;width: 50%;}#sk-container-id-2 div.sk-parallel-item:last-child::after {align-self: flex-start;width: 50%;}#sk-container-id-2 div.sk-parallel-item:only-child::after {width: 0;}#sk-container-id-2 div.sk-dashed-wrapped {border: 1px dashed gray;margin: 0 0.4em 0.5em 0.4em;box-sizing: border-box;padding-bottom: 0.4em;background-color: white;}#sk-container-id-2 div.sk-label label {font-family: monospace;font-weight: bold;display: inline-block;line-height: 1.2em;}#sk-container-id-2 div.sk-label-container {text-align: center;}#sk-container-id-2 div.sk-container {/* jupyter's `normalize.less` sets `[hidden] { display: none; }` but bootstrap.min.css set `[hidden] { display: none !important; }` so we also need the `!important` here to be able to override the default hidden behavior on the sphinx rendered scikit-learn.org. See: https://github.com/scikit-learn/scikit-learn/issues/21755 */display: inline-block !important;position: relative;}#sk-container-id-2 div.sk-text-repr-fallback {display: none;}</style><div id=\"sk-container-id-2\" class=\"sk-top-container\"><div class=\"sk-text-repr-fallback\"><pre>LinearRegression()</pre><b>In a Jupyter environment, please rerun this cell to show the HTML representation or trust the notebook. <br />On GitHub, the HTML representation is unable to render, please try loading this page with nbviewer.org.</b></div><div class=\"sk-container\" hidden><div class=\"sk-item\"><div class=\"sk-estimator sk-toggleable\"><input class=\"sk-toggleable__control sk-hidden--visually\" id=\"sk-estimator-id-2\" type=\"checkbox\" checked><label for=\"sk-estimator-id-2\" class=\"sk-toggleable__label sk-toggleable__label-arrow\">LinearRegression</label><div class=\"sk-toggleable__content\"><pre>LinearRegression()</pre></div></div></div></div></div>"
      ],
      "text/plain": [
       "LinearRegression()"
      ]
     },
     "execution_count": 49,
     "metadata": {},
     "output_type": "execute_result"
    }
   ],
   "source": [
    "# Fit the regression object onto the training set.\n",
    "regression.fit(X_train, y_train)"
   ]
  },
  {
   "cell_type": "code",
   "execution_count": 50,
   "id": "890cc747",
   "metadata": {},
   "outputs": [],
   "source": [
    "# Predict the values of y using X.\n",
    "y_predicted = regression.predict(X_test)"
   ]
  },
  {
   "cell_type": "code",
   "execution_count": 52,
   "id": "d35f398b",
   "metadata": {},
   "outputs": [
    {
     "data": {
      "image/png": "[encoded data removed]",
      "text/plain": [
       "<Figure size 640x480 with 1 Axes>"
      ]
     },
     "metadata": {},
     "output_type": "display_data"
    }
   ],
   "source": [
    "# Create a plot that shows the regression line from the model on the test set.\n",
    "plot_test = plt\n",
    "plot_test.scatter(X_test, y_test, color='gray', s = 15)\n",
    "plot_test.plot(X_test, y_predicted, color='red', linewidth =3)\n",
    "plot_test.title('Player Market Value(EUR) vs Player Age (Test set)')\n",
    "plot_test.xlabel('age')\n",
    "plot_test.ylabel('market_value_in_eur')\n",
    "plot_test.show()"
   ]
  },
  {
   "cell_type": "markdown",
   "id": "ed487f02",
   "metadata": {},
   "source": [
    "In the area where the market value is low (0 to 0.50), there are still many data points that indicate low market value,\n",
    "regardless of the age of the player. \n",
    "With most high market value points at the mean age this contradicts the hypothesis."
   ]
  },
  {
   "cell_type": "code",
   "execution_count": 53,
   "id": "11a406ff",
   "metadata": {},
   "outputs": [],
   "source": [
    "# Create objects that contain the model summary statistics.\n",
    "rmse = mean_squared_error(y_test, y_predicted) # mean squared error\n",
    "r2 = r2_score(y_test, y_predicted) #R2 score. "
   ]
  },
  {
   "cell_type": "code",
   "execution_count": 54,
   "id": "9c6aa692",
   "metadata": {},
   "outputs": [
    {
     "name": "stdout",
     "output_type": "stream",
     "text": [
      "Slope: [[-1640384.0853959]]\n",
      "Mean squared error:  292543258046023.3\n",
      "R2 score:  0.1626548566631758\n"
     ]
    }
   ],
   "source": [
    "# Print the model summary statistics.\n",
    "print('Slope:' ,regression.coef_)\n",
    "print('Mean squared error: ', rmse)\n",
    "print('R2 score: ', r2)"
   ]
  },
  {
   "cell_type": "code",
   "execution_count": 55,
   "id": "803b5495",
   "metadata": {},
   "outputs": [
    {
     "data": {
      "text/plain": [
       "array([[ 9994081.27848309],\n",
       "       [14915233.5346708 ],\n",
       "       [  151776.76610768],\n",
       "       ...,\n",
       "       [14915233.5346708 ],\n",
       "       [16555617.6200667 ],\n",
       "       [ 5072929.02229539]])"
      ]
     },
     "execution_count": 55,
     "metadata": {},
     "output_type": "execute_result"
    }
   ],
   "source": [
    "y_predicted"
   ]
  },
  {
   "cell_type": "markdown",
   "id": "20e2cd60",
   "metadata": {},
   "source": [
    "Slope = negative slope with highMSe= model's predictions are very far from the actual values.\n",
    "R2 explains 16.27% of the variance in the Market Value. This indicates that the model's ability to explain the variation in the Market Value is relatively low.\n",
    "The very high MSE and low R2 score indicate that the model is not performing well in predicting the Market Value based on the players age.\n",
    "\n"
   ]
  },
  {
   "cell_type": "code",
   "execution_count": 56,
   "id": "c0d4a48a",
   "metadata": {},
   "outputs": [
    {
     "data": {
      "text/html": [
       "<div>\n",
       "<style scoped>\n",
       "    .dataframe tbody tr th:only-of-type {\n",
       "        vertical-align: middle;\n",
       "    }\n",
       "\n",
       "    .dataframe tbody tr th {\n",
       "        vertical-align: top;\n",
       "    }\n",
       "\n",
       "    .dataframe thead th {\n",
       "        text-align: right;\n",
       "    }\n",
       "</style>\n",
       "<table border=\"1\" class=\"dataframe\">\n",
       "  <thead>\n",
       "    <tr style=\"text-align: right;\">\n",
       "      <th></th>\n",
       "      <th>Actual</th>\n",
       "      <th>Predicted</th>\n",
       "    </tr>\n",
       "  </thead>\n",
       "  <tbody>\n",
       "    <tr>\n",
       "      <th>0</th>\n",
       "      <td>7000000</td>\n",
       "      <td>9994081.2785</td>\n",
       "    </tr>\n",
       "    <tr>\n",
       "      <th>1</th>\n",
       "      <td>14000000</td>\n",
       "      <td>14915233.5347</td>\n",
       "    </tr>\n",
       "    <tr>\n",
       "      <th>2</th>\n",
       "      <td>250000</td>\n",
       "      <td>151776.7661</td>\n",
       "    </tr>\n",
       "    <tr>\n",
       "      <th>3</th>\n",
       "      <td>2000000</td>\n",
       "      <td>1792160.8515</td>\n",
       "    </tr>\n",
       "    <tr>\n",
       "      <th>4</th>\n",
       "      <td>30000000</td>\n",
       "      <td>14915233.5347</td>\n",
       "    </tr>\n",
       "    <tr>\n",
       "      <th>5</th>\n",
       "      <td>300000</td>\n",
       "      <td>151776.7661</td>\n",
       "    </tr>\n",
       "    <tr>\n",
       "      <th>6</th>\n",
       "      <td>3000000</td>\n",
       "      <td>14915233.5347</td>\n",
       "    </tr>\n",
       "    <tr>\n",
       "      <th>7</th>\n",
       "      <td>2500000</td>\n",
       "      <td>8353697.1931</td>\n",
       "    </tr>\n",
       "    <tr>\n",
       "      <th>8</th>\n",
       "      <td>2000000</td>\n",
       "      <td>9994081.2785</td>\n",
       "    </tr>\n",
       "    <tr>\n",
       "      <th>9</th>\n",
       "      <td>400000</td>\n",
       "      <td>13274849.4493</td>\n",
       "    </tr>\n",
       "    <tr>\n",
       "      <th>10</th>\n",
       "      <td>22000000</td>\n",
       "      <td>16555617.6201</td>\n",
       "    </tr>\n",
       "    <tr>\n",
       "      <th>11</th>\n",
       "      <td>1200000</td>\n",
       "      <td>11634465.3639</td>\n",
       "    </tr>\n",
       "    <tr>\n",
       "      <th>12</th>\n",
       "      <td>35000000</td>\n",
       "      <td>13274849.4493</td>\n",
       "    </tr>\n",
       "    <tr>\n",
       "      <th>13</th>\n",
       "      <td>12000000</td>\n",
       "      <td>21476769.8763</td>\n",
       "    </tr>\n",
       "    <tr>\n",
       "      <th>14</th>\n",
       "      <td>3500000</td>\n",
       "      <td>19836385.7909</td>\n",
       "    </tr>\n",
       "    <tr>\n",
       "      <th>15</th>\n",
       "      <td>250000</td>\n",
       "      <td>5072929.0223</td>\n",
       "    </tr>\n",
       "    <tr>\n",
       "      <th>16</th>\n",
       "      <td>7000000</td>\n",
       "      <td>19836385.7909</td>\n",
       "    </tr>\n",
       "    <tr>\n",
       "      <th>17</th>\n",
       "      <td>1500000</td>\n",
       "      <td>11634465.3639</td>\n",
       "    </tr>\n",
       "    <tr>\n",
       "      <th>18</th>\n",
       "      <td>2500000</td>\n",
       "      <td>5072929.0223</td>\n",
       "    </tr>\n",
       "    <tr>\n",
       "      <th>19</th>\n",
       "      <td>1500000</td>\n",
       "      <td>9994081.2785</td>\n",
       "    </tr>\n",
       "    <tr>\n",
       "      <th>20</th>\n",
       "      <td>25000000</td>\n",
       "      <td>18196001.7055</td>\n",
       "    </tr>\n",
       "    <tr>\n",
       "      <th>21</th>\n",
       "      <td>1000000</td>\n",
       "      <td>14915233.5347</td>\n",
       "    </tr>\n",
       "    <tr>\n",
       "      <th>22</th>\n",
       "      <td>8000000</td>\n",
       "      <td>6713313.1077</td>\n",
       "    </tr>\n",
       "    <tr>\n",
       "      <th>23</th>\n",
       "      <td>500000</td>\n",
       "      <td>6713313.1077</td>\n",
       "    </tr>\n",
       "    <tr>\n",
       "      <th>24</th>\n",
       "      <td>15000000</td>\n",
       "      <td>19836385.7909</td>\n",
       "    </tr>\n",
       "    <tr>\n",
       "      <th>25</th>\n",
       "      <td>3000000</td>\n",
       "      <td>9994081.2785</td>\n",
       "    </tr>\n",
       "    <tr>\n",
       "      <th>26</th>\n",
       "      <td>700000</td>\n",
       "      <td>1792160.8515</td>\n",
       "    </tr>\n",
       "    <tr>\n",
       "      <th>27</th>\n",
       "      <td>800000</td>\n",
       "      <td>1792160.8515</td>\n",
       "    </tr>\n",
       "    <tr>\n",
       "      <th>28</th>\n",
       "      <td>10000000</td>\n",
       "      <td>8353697.1931</td>\n",
       "    </tr>\n",
       "    <tr>\n",
       "      <th>29</th>\n",
       "      <td>25000000</td>\n",
       "      <td>21476769.8763</td>\n",
       "    </tr>\n",
       "  </tbody>\n",
       "</table>\n",
       "</div>"
      ],
      "text/plain": [
       "      Actual     Predicted\n",
       "0    7000000  9994081.2785\n",
       "1   14000000 14915233.5347\n",
       "2     250000   151776.7661\n",
       "3    2000000  1792160.8515\n",
       "4   30000000 14915233.5347\n",
       "5     300000   151776.7661\n",
       "6    3000000 14915233.5347\n",
       "7    2500000  8353697.1931\n",
       "8    2000000  9994081.2785\n",
       "9     400000 13274849.4493\n",
       "10  22000000 16555617.6201\n",
       "11   1200000 11634465.3639\n",
       "12  35000000 13274849.4493\n",
       "13  12000000 21476769.8763\n",
       "14   3500000 19836385.7909\n",
       "15    250000  5072929.0223\n",
       "16   7000000 19836385.7909\n",
       "17   1500000 11634465.3639\n",
       "18   2500000  5072929.0223\n",
       "19   1500000  9994081.2785\n",
       "20  25000000 18196001.7055\n",
       "21   1000000 14915233.5347\n",
       "22   8000000  6713313.1077\n",
       "23    500000  6713313.1077\n",
       "24  15000000 19836385.7909\n",
       "25   3000000  9994081.2785\n",
       "26    700000  1792160.8515\n",
       "27    800000  1792160.8515\n",
       "28  10000000  8353697.1931\n",
       "29  25000000 21476769.8763"
      ]
     },
     "execution_count": 56,
     "metadata": {},
     "output_type": "execute_result"
    }
   ],
   "source": [
    "# Create a dataframe comparing the actual and predicted values of y.\n",
    "data = pd.DataFrame({'Actual': y_test.flatten(), 'Predicted': y_predicted.flatten()})\n",
    "data.head(30)"
   ]
  },
  {
   "cell_type": "markdown",
   "id": "4e0f5be7",
   "metadata": {},
   "source": [
    "##### Compare how the regression fits the training set"
   ]
  },
  {
   "cell_type": "code",
   "execution_count": 57,
   "id": "0f20b362",
   "metadata": {},
   "outputs": [],
   "source": [
    "# Predict X_train\n",
    "y_predicted_train = regression.predict(X_train)"
   ]
  },
  {
   "cell_type": "code",
   "execution_count": 58,
   "id": "0bdc1408",
   "metadata": {},
   "outputs": [],
   "source": [
    "rmse = mean_squared_error(y_train, y_predicted_train)\n",
    "r2 = r2_score(y_train, y_predicted_train)"
   ]
  },
  {
   "cell_type": "code",
   "execution_count": 59,
   "id": "0ebeab0b",
   "metadata": {},
   "outputs": [
    {
     "name": "stdout",
     "output_type": "stream",
     "text": [
      "Slope: [[-1640384.0853959]]\n",
      "Mean squared error:  284744736011947.9\n",
      "R2 score:  0.16342569492655168\n"
     ]
    }
   ],
   "source": [
    "print('Slope:' ,regression.coef_)\n",
    "print('Mean squared error: ', rmse)\n",
    "print('R2 score: ', r2)"
   ]
  },
  {
   "cell_type": "code",
   "execution_count": 62,
   "id": "30263bd4",
   "metadata": {},
   "outputs": [
    {
     "data": {
      "image/png": "[encoded data removed]",
      "text/plain": [
       "<Figure size 640x480 with 1 Axes>"
      ]
     },
     "metadata": {},
     "output_type": "display_data"
    }
   ],
   "source": [
    "# Visualizing the training set results.\n",
    "plot_test = plt\n",
    "plot_test.scatter(X_train, y_train, color='green', s = 15)\n",
    "plot_test.plot(X_train, y_predicted_train, color='red', linewidth =3)\n",
    "plot_test.title('Player Market Value(EUR) vs Player Age (Test set)')\n",
    "plot_test.xlabel('age')\n",
    "plot_test.ylabel('market_value_in_eur')\n",
    "plot_test.show()"
   ]
  },
  {
   "cell_type": "code",
   "execution_count": null,
   "id": "af6f8680",
   "metadata": {},
   "outputs": [],
   "source": []
  }
 ],
 "metadata": {
  "kernelspec": {
   "display_name": "Python 3 (ipykernel)",
   "language": "python",
   "name": "python3"
  },
  "language_info": {
   "codemirror_mode": {
    "name": "ipython",
    "version": 3
   },
   "file_extension": ".py",
   "mimetype": "text/x-python",
   "name": "python",
   "nbconvert_exporter": "python",
   "pygments_lexer": "ipython3",
   "version": "3.11.5"
  }
 },
 "nbformat": 4,
 "nbformat_minor": 5
}
