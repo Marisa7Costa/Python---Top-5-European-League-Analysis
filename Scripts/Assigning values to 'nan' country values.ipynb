{
 "cells": [
  {
   "cell_type": "markdown",
   "id": "289d4271",
   "metadata": {},
   "source": [
    "# Assigning values to 'nan' country values"
   ]
  },
  {
   "cell_type": "markdown",
   "id": "ad61a3d0",
   "metadata": {},
   "source": [
    "### Content List:\n",
    "#### 1. Import Libararies and Data\n",
    "#### 2. Check Data\n",
    "#### 3. Assign missing country values"
   ]
  },
  {
   "cell_type": "markdown",
   "id": "2a93043e",
   "metadata": {},
   "source": [
    "### 1. Import Libararies and Data"
   ]
  },
  {
   "cell_type": "code",
   "execution_count": 1,
   "id": "3859b1a5",
   "metadata": {},
   "outputs": [],
   "source": [
    "#Import Libraries\n",
    "\n",
    "import pandas as pd\n",
    "import numpy as np\n",
    "import seaborn as sns\n",
    "import matplotlib\n",
    "import os\n",
    "import folium\n",
    "import json\n",
    "\n",
    "#Remove scientific notation\n",
    "pd.options.display.float_format='{:.4f}'.format"
   ]
  },
  {
   "cell_type": "code",
   "execution_count": 2,
   "id": "5fd8d442",
   "metadata": {},
   "outputs": [],
   "source": [
    "#Create data path\n",
    "path = r'C:\\Users\\Utilizador\\OneDrive\\Documents\\CareerFoundry - Data Analyst\\Data Immersion\\A6\\24-03-2024 TransferMarkt'"
   ]
  },
  {
   "cell_type": "code",
   "execution_count": 25,
   "id": "6d2de8b6",
   "metadata": {},
   "outputs": [],
   "source": [
    "#import data\n",
    "df = pd.read_pickle(os.path.join(path, '02 Data', 'Prepared Data', 'big5leagues.pkl'))\n",
    "players = pd.read_csv(os.path.join(path, '02 Data', 'Original Data', 'players.csv'))"
   ]
  },
  {
   "cell_type": "markdown",
   "id": "49cb2934",
   "metadata": {},
   "source": [
    "### 2. Check Data"
   ]
  },
  {
   "cell_type": "code",
   "execution_count": 4,
   "id": "c8451dcc",
   "metadata": {},
   "outputs": [
    {
     "data": {
      "text/plain": [
       "Index(['player_id', 'player_name', 'date_of_birth', 'age',\n",
       "       'country_of_citizenship', 'country_of_citizen#', 'position',\n",
       "       'position#', 'sub_position', 'sub_position#', 'foot', 'foot#',\n",
       "       'current_club_name', 'current_club_name#', 'last_season',\n",
       "       'market_value_in_eur', 'highest_market_value_in_eur',\n",
       "       'competition_name', 'competition_country', 'comp_countries#', 'date',\n",
       "       'domestic_league_code', 'club_name', 'club_name#',\n",
       "       'current_club_country', 'current_league'],\n",
       "      dtype='object')"
      ]
     },
     "execution_count": 4,
     "metadata": {},
     "output_type": "execute_result"
    }
   ],
   "source": [
    "df.columns"
   ]
  },
  {
   "cell_type": "markdown",
   "id": "019ce35b",
   "metadata": {},
   "source": [
    "### 3. Assign missing country values"
   ]
  },
  {
   "cell_type": "code",
   "execution_count": 5,
   "id": "bed39523",
   "metadata": {},
   "outputs": [],
   "source": [
    "#Create Germany Club list\n",
    "germany_clubs = {\n",
    "    '1. FC Union Berlin',\n",
    "'1. Fußball- und Sportverein Mainz 05',\n",
    "'1. Fußball-Club Köln',\n",
    "'1. Fußballclub Heidenheim 1846',\n",
    "'1.FC Nuremberg',\n",
    "'Arminia Bielefeld',\n",
    "'Bayer 04 Leverkusen Fußball',\n",
    "'Borussia Dortmund',\n",
    "'Borussia Verein für Leibesübungen 1900 Mönchengladbach',\n",
    "'Eintracht Braunschweig',\n",
    "'Eintracht Frankfurt Fußball AG',\n",
    "'FC Augsburg 1907',\n",
    "'FC Bayern München',\n",
    "'FC Ingolstadt 04',\n",
    "'FC Schalke 04',\n",
    "'Fortuna Düsseldorf',\n",
    "'Hamburger SV',\n",
    "'Hannover 96',\n",
    "'Hertha BSC',\n",
    "'RasenBallsport Leipzig',\n",
    "'SC Paderborn 07',\n",
    "'SpVgg Greuther Fürth',\n",
    "'Sport-Club Freiburg',\n",
    "'Sportverein Darmstadt 1898 e. V.',\n",
    "'Sportverein Werder Bremen von 1899',\n",
    "'TSG 1899 Hoffenheim Fußball-Spielbetriebs GmbH',\n",
    "'Verein für Bewegungsspiele Stuttgart 1893',\n",
    "'Verein für Leibesübungen Bochum 1848 – Fußballgemeinschaft',\n",
    "'Verein für Leibesübungen Wolfsburg',\n",
    "    }"
   ]
  },
  {
   "cell_type": "code",
   "execution_count": 6,
   "id": "fc892946",
   "metadata": {},
   "outputs": [],
   "source": [
    "#Create Italy Club list\n",
    "italy_clubs = {\n",
    "    'AC Carpi',\n",
    "'Associazione Calcio Fiorentina',\n",
    "'Associazione Calcio Milan',\n",
    "'Associazione Calcio Monza',\n",
    "'Associazione Sportiva Roma',\n",
    "'Atalanta Bergamasca Calcio S.p.a.',\n",
    "'Benevento Calcio',\n",
    "'Bologna Football Club 1909',\n",
    "'Brescia Calcio',\n",
    "'Cagliari Calcio',\n",
    "'Catania FC',\n",
    "'Cesena FC',\n",
    "'Chievo Verona',\n",
    "'Delfino Pescara 1936',\n",
    "'Empoli Football Club S.r.l.',\n",
    "'FC Crotone',\n",
    "'Football Club Internazionale Milano S.p.A.',\n",
    "'Frosinone Calcio S.r.l.',\n",
    "'Genoa Cricket and Football Club',\n",
    "'Juventus Football Club',\n",
    "'Palermo FC',\n",
    "'Parma Calcio 1913',\n",
    "'SPAL',\n",
    "'Siena FC',\n",
    "'Società Sportiva Calcio Napoli',\n",
    "'Società Sportiva Lazio S.p.A.',\n",
    "'Spezia Calcio',\n",
    "'Torino Calcio',\n",
    "'U.S. Salernitana 1919 S.r.l.',\n",
    "'UC Sampdoria',\n",
    "'US Cremonese',\n",
    "'US Livorno 1915',\n",
    "'Udinese Calcio',\n",
    "'Unione Sportiva Lecce',\n",
    "'Unione Sportiva Sassuolo Calcio',\n",
    "'Venezia FC',\n",
    "'Verona Hellas Football Club',\n",
    "}"
   ]
  },
  {
   "cell_type": "code",
   "execution_count": 7,
   "id": "688c14f0",
   "metadata": {},
   "outputs": [],
   "source": [
    "#Create Spain Club list\n",
    "spain_clubs = {\n",
    "    'Athletic Club Bilbao',\n",
    "'CD Leganés',\n",
    "'Club Atlético Osasuna',\n",
    "'Club Atlético de Madrid S.A.D.',\n",
    "'Cádiz Club de Fútbol S.A.D',\n",
    "'Córdoba CF',\n",
    "'Deportivo Alavés S.A.D.',\n",
    "'Deportivo de La Coruña',\n",
    "'Elche CF',\n",
    "'Futbol Club Barcelona',\n",
    "'Getafe Club de Fútbol S.A.D. Team Dubai',\n",
    "'Girona Fútbol Club S. A. D.',\n",
    "'Granada Club de Fútbol S.A.D.',\n",
    "'Levante UD',\n",
    "'Málaga CF',\n",
    "'RCD Espanyol Barcelona',\n",
    "'Rayo Vallecano de Madrid S.A.D.',\n",
    "'Real Betis Balompié S.A.D.',\n",
    "'Real Club Celta de Vigo S. A. D.',\n",
    "'Real Club Deportivo Mallorca S.A.D.',\n",
    "'Real Madrid Club de Fútbol',\n",
    "'Real Sociedad de Fútbol S.A.D.',\n",
    "'Real Valladolid CF',\n",
    "'Real Zaragoza',\n",
    "'SD Eibar',\n",
    "'SD Huesca',\n",
    "'Sevilla Fútbol Club S.A.D.',\n",
    "'Sporting Gijón',\n",
    "'Unión Deportiva Almería S.A.D.',\n",
    "'Unión Deportiva Las Palmas S.A.D.',\n",
    "'Valencia Club de Fútbol S. A. D.',\n",
    "'Villarreal Club de Fútbol S.A.D.',\n",
    "}"
   ]
  },
  {
   "cell_type": "code",
   "execution_count": 8,
   "id": "b4003c25",
   "metadata": {},
   "outputs": [],
   "source": [
    "#Create France Club list\n",
    "france_clubs = {\n",
    "    'AC Ajaccio',\n",
    "'AJ Auxerre',\n",
    "'AS Nancy-Lorraine',\n",
    "'AS Saint-Étienne',\n",
    "'Amiens SC',\n",
    "'Angers SCO',\n",
    "'Association sportive de Monaco Football Club',\n",
    "'Clermont Foot 63',\n",
    "'Dijon FCO',\n",
    "'EA Guingamp',\n",
    "'ESTAC Troyes',\n",
    "'FC Girondins Bordeaux',\n",
    "'FC Sochaux-Montbéliard',\n",
    "'Football Club Lorient-Bretagne Sud',\n",
    "'Football Club de Metz',\n",
    "'Football Club de Nantes',\n",
    "'GFC Ajaccio',\n",
    "'Le Havre Athletic Club',\n",
    "'Lille Olympique Sporting Club Lille Métropole',\n",
    "'Montpellier Hérault Sport Club',\n",
    "'Nîmes Olympique',\n",
    "'Olympique Gymnaste Club Nice Côte dAzur',\n",
    "'Olympique Lyonnais',\n",
    "'Olympique de Marseille',\n",
    "'Paris Saint-Germain Football Club',\n",
    "'Racing Club de Lens',\n",
    "'Racing Club de Strasbourg Alsace',\n",
    "'SC Bastia',\n",
    "'SM Caen',\n",
    "'Stade Rennais Football Club',\n",
    "'Stade brestois 29',\n",
    "'Stade de Reims',\n",
    "'Thonon Évian Grand Genève FC',\n",
    "'Toulouse Football Club',\n",
    "'Valenciennes FC',\n",
    "}"
   ]
  },
  {
   "cell_type": "code",
   "execution_count": 9,
   "id": "2af8ea6b",
   "metadata": {},
   "outputs": [],
   "source": [
    "#Create England Club list\n",
    "england_clubs = {\n",
    "    'Arsenal Football Club',\n",
    "'Association Football Club Bournemouth',\n",
    "'Aston Villa Football Club',\n",
    "'Brentford Football Club',\n",
    "'Brighton and Hove Albion Football Club',\n",
    "'Burnley Football Club',\n",
    "'Cardiff City',\n",
    "'Chelsea Football Club',\n",
    "'Crystal Palace Football Club',\n",
    "'Everton Football Club',\n",
    "'Fulham Football Club',\n",
    "'Huddersfield Town',\n",
    "'Hull City ',\n",
    "'Leeds United',\n",
    "'Leicester City',\n",
    "'Liverpool Football Club',\n",
    "'Luton Town Football Club',\n",
    "'Manchester City Football Club',\n",
    "'Manchester United Football Club',\n",
    "'Middlesbrough FC',\n",
    "'Newcastle United Football Club',\n",
    "'Norwich City',\n",
    "'Nottingham Forest Football Club',\n",
    "'Queens Park Rangers',\n",
    "'Reading FC',\n",
    "'Sheffield United Football Club',\n",
    "'Southampton FC',\n",
    "'Stoke City ',\n",
    "'Sunderland AFC',\n",
    "'Swansea City',\n",
    "'Tottenham Hotspur Football Club',\n",
    "'Watford FC',\n",
    "'West Bromwich Albion',\n",
    "'West Ham United Football Club',\n",
    "'Wigan Athletic',\n",
    "'Wolverhampton Wanderers Football Club',\n",
    "}"
   ]
  },
  {
   "cell_type": "code",
   "execution_count": 10,
   "id": "9f5e8f01",
   "metadata": {},
   "outputs": [],
   "source": [
    "#Create Denmark Club list\n",
    "denmark_clubs = {\n",
    "  'Football Club København',\n",
    "'Fodbold Club Midtjylland',\n",
    "'Brøndby Idrætsforening',\n",
    "'Fodbold Club Nordsjælland',\n",
    "'Esbjerg fB',\n",
    "'Aarhus Gymnastik Forening',\n",
    "'AC Horsens',\n",
    "\n",
    "}"
   ]
  },
  {
   "cell_type": "code",
   "execution_count": 11,
   "id": "c8b31f74",
   "metadata": {},
   "outputs": [],
   "source": [
    "#Create Greece Club list\n",
    "greece_clubs = {\n",
    "    'Olympiakos Syndesmos Filathlon Peiraios',\n",
    "'Panthessalonikios Athlitikos Omilos Konstantinoupoliton',\n",
    "'Panathinaikos Athlitikos Omilos',\n",
    "'Athlitiki Enosi Konstantinoupoleos',\n",
    "'A.G.S Asteras Tripolis'}\n"
   ]
  },
  {
   "cell_type": "code",
   "execution_count": 12,
   "id": "d8779419",
   "metadata": {},
   "outputs": [],
   "source": [
    "#Create belgium Club list\n",
    "belgium_clubs = {\n",
    "    'Koninklijke Racing Club Genk',\n",
    "'Club Brugge Koninklijke Voetbalvereniging',\n",
    "'Koninklijke Atletiek Associatie Gent',\n",
    "'Royal Sporting Club Anderlecht',\n",
    "'Royal Antwerp Football Club',\n",
    "'Royale Union Saint-Gilloise',\n",
    "'Royal Standard Club de Liège',\n",
    "'Royal Charleroi Sporting Club',\n",
    "'SV Zulte Waregem',\n",
    "}\n"
   ]
  },
  {
   "cell_type": "code",
   "execution_count": 13,
   "id": "bb756a38",
   "metadata": {},
   "outputs": [],
   "source": [
    "#Create Dutch Club list\n",
    "dutch_clubs = {\n",
    "   'AFC Ajax Amsterdam',\n",
    "'Eindhovense Voetbalvereniging Philips Sport Vereniging',\n",
    "'Alkmaar Zaanstreek',\n",
    "'Feyenoord Rotterdam',\n",
    "'Stichting Betaald Voetbal Vitesse Arnhem',\n",
    "'FC Groningen',\n",
    "'Sportclub Heerenveen',\n",
    "'Football Club Twente',\n",
    "'Football Club Utrecht',\n",
    "'Willem II Tilburg',\n",
    "'Heracles Almelo',\n",
    "}"
   ]
  },
  {
   "cell_type": "code",
   "execution_count": 14,
   "id": "186d8dfc",
   "metadata": {},
   "outputs": [],
   "source": [
    "#Create Portugal Club list\n",
    "portugal_clubs = {\n",
    "    'Sport Lisboa e Benfica',\n",
    "'Futebol Clube do Porto',\n",
    "'Sporting Clube de Portugal',\n",
    "'Sporting Clube de Braga',\n",
    "'Vitória Sport Clube',\n",
    "'FC Paços de Ferreira',\n",
    "'CS Marítimo',\n",
    "'Rio Ave Futebol Clube',\n",
    "}"
   ]
  },
  {
   "cell_type": "code",
   "execution_count": 15,
   "id": "74c3588e",
   "metadata": {},
   "outputs": [],
   "source": [
    "#Create Russia Club list\n",
    "russia_clubs = {\n",
    "    'AO FK Zenit Sankt-Peterburg',\n",
    "'PFK CSKA Moskva',\n",
    "'FK Spartak Moskva',\n",
    "'FC Rubin Kazan',\n",
    "'Футбольный клуб \"Локомотив\" Москва',\n",
    "'FK Rostov',\n",
    "'FK Krasnodar',\n",
    "'FK Dinamo Moskva',\n",
    "'Anzhi Makhachkala ( -2022)',\n",
    "'Arsenal Tula',\n",
    "}"
   ]
  },
  {
   "cell_type": "code",
   "execution_count": 16,
   "id": "85c08f6f",
   "metadata": {},
   "outputs": [],
   "source": [
    "#Create Turkey Club list\n",
    "turkey_clubs = {\n",
    "    'Galatasaray Spor Kulübü',\n",
    "'Fenerbahçe Spor Kulübü',\n",
    "'Beşiktaş Jimnastik Kulübü',\n",
    "'Trabzonspor Kulübü',\n",
    "'Adana Demirspor Kulübü',\n",
    "'İstanbul Başakşehir Futbol Kulübü',\n",
    "'Bursaspor',\n",
    "'Kardemir Karabükspor',\n",
    "}"
   ]
  },
  {
   "cell_type": "code",
   "execution_count": 17,
   "id": "46e504c2",
   "metadata": {},
   "outputs": [],
   "source": [
    "#Create Ukraine Club list\n",
    "ukraine_clubs = {\n",
    "    'FC Shakhtar Donetsk',\n",
    "'Futbolniy Klub Dynamo Kyiv',\n",
    "'Dnipro Dnipropetrovsk (-2020)',\n",
    "'FK Zarya Lugansk',\n",
    "'Sport Klub Dnipro-1',\n",
    "'Vorskla Poltava',\n",
    "'FK Oleksandriya',\n",
    "}"
   ]
  },
  {
   "cell_type": "code",
   "execution_count": 18,
   "id": "3c13432f",
   "metadata": {},
   "outputs": [],
   "source": [
    "#Create UK Club list\n",
    "uk_clubs = {\n",
    "    'The Celtic Football Club',\n",
    "'Rangers Football Club',\n",
    "'Aberdeen Football Club',\n",
    "'Hull City',\n",
    "'Hibernian Football Club',\n",
    "'Motherwell Football Club',\n",
    "'Inverness Caledonian Thistle FC',\n",
    "}"
   ]
  },
  {
   "cell_type": "code",
   "execution_count": 19,
   "id": "33b1969b",
   "metadata": {},
   "outputs": [
    {
     "data": {
      "text/plain": [
       "competition_country\n",
       "Spain          82790\n",
       "England        80443\n",
       "Italy          78245\n",
       "Germany        70332\n",
       "France         60566\n",
       "nan            43767\n",
       "Netherlands    12105\n",
       "Belgium         8359\n",
       "Portugal        7573\n",
       "Turkey          3644\n",
       "Denmark         3413\n",
       "Russia          3328\n",
       "Scotland        2562\n",
       "Ukraine         1672\n",
       "Greece          1407\n",
       "Name: count, dtype: int64"
      ]
     },
     "execution_count": 19,
     "metadata": {},
     "output_type": "execute_result"
    }
   ],
   "source": [
    "df['competition_country'].value_counts()"
   ]
  },
  {
   "cell_type": "code",
   "execution_count": 20,
   "id": "e8b3dc0d",
   "metadata": {},
   "outputs": [],
   "source": [
    "# Function to replace 'nan' with country names based on club_name\n",
    "def replace_nan_with_country(club_name):\n",
    "    if club_name in germany_clubs:\n",
    "        return 'Germany'\n",
    "    elif club_name in italy_clubs:\n",
    "        return 'Italy'\n",
    "    elif club_name in spain_clubs:\n",
    "        return 'Spain'\n",
    "    elif club_name in france_clubs:\n",
    "        return 'France'\n",
    "    elif club_name in england_clubs:\n",
    "        return 'United Kingdom'\n",
    "    elif club_name in belgium_clubs:\n",
    "        return 'Belgium'\n",
    "    elif club_name in denmark_clubs:\n",
    "        return 'Denmark'\n",
    "    elif club_name in greece_clubs:\n",
    "        return 'Greece'\n",
    "    elif club_name in dutch_clubs:\n",
    "        return 'Netherlands'\n",
    "    elif club_name in portugal_clubs:\n",
    "        return 'Portugal'\n",
    "    elif club_name in russia_clubs:\n",
    "        return 'Russia'\n",
    "    elif club_name in turkey_clubs:\n",
    "        return 'Turkey'\n",
    "    elif club_name in ukraine_clubs:\n",
    "        return 'Ukraine'\n",
    "    elif club_name in uk_clubs:\n",
    "        return 'United Kingdom'\n",
    "    else:\n",
    "        return 'nan'\n",
    "\n",
    "# Apply the function to replace 'nan' values in competition_club column\n",
    "df['competition_country'] = df.apply(lambda row: replace_nan_with_country(row['club_name']) if row['competition_country'] == 'nan' else row['competition_country'], axis=1)\n"
   ]
  },
  {
   "cell_type": "code",
   "execution_count": 21,
   "id": "6f937211",
   "metadata": {},
   "outputs": [
    {
     "data": {
      "text/plain": [
       "competition_country\n",
       "Spain             91627\n",
       "Italy             85482\n",
       "England           80443\n",
       "Germany           78143\n",
       "France            65592\n",
       "Netherlands       13795\n",
       "Belgium            9409\n",
       "Portugal           8877\n",
       "United Kingdom     8647\n",
       "Turkey             4076\n",
       "Denmark            3881\n",
       "Russia             3828\n",
       "Scotland           2562\n",
       "Ukraine            2198\n",
       "Greece             1646\n",
       "Name: count, dtype: int64"
      ]
     },
     "execution_count": 21,
     "metadata": {},
     "output_type": "execute_result"
    }
   ],
   "source": [
    "df['competition_country'].value_counts()"
   ]
  },
  {
   "cell_type": "code",
   "execution_count": 22,
   "id": "2647dc99",
   "metadata": {},
   "outputs": [],
   "source": [
    "#display and address missing countries\n",
    "pd.set_option('display.max_rows', None)\n",
    "nan_rows = df[df['competition_country'] == 'nan']\n"
   ]
  },
  {
   "cell_type": "code",
   "execution_count": 23,
   "id": "b7a9dba7",
   "metadata": {},
   "outputs": [
    {
     "data": {
      "text/plain": [
       "Series([], Name: count, dtype: int64)"
      ]
     },
     "execution_count": 23,
     "metadata": {},
     "output_type": "execute_result"
    }
   ],
   "source": [
    "nan_rows['club_name'].value_counts()"
   ]
  },
  {
   "cell_type": "code",
   "execution_count": 24,
   "id": "13c63daa",
   "metadata": {},
   "outputs": [],
   "source": [
    "#Export \n",
    "df.to_pickle(os.path.join(path, '02 Data', 'Prepared Data', 'big5leagues_cleaned.pkl'))"
   ]
  }
 ],
 "metadata": {
  "kernelspec": {
   "display_name": "Python 3 (ipykernel)",
   "language": "python",
   "name": "python3"
  },
  "language_info": {
   "codemirror_mode": {
    "name": "ipython",
    "version": 3
   },
   "file_extension": ".py",
   "mimetype": "text/x-python",
   "name": "python",
   "nbconvert_exporter": "python",
   "pygments_lexer": "ipython3",
   "version": "3.11.5"
  }
 },
 "nbformat": 4,
 "nbformat_minor": 5
}
